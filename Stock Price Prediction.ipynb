{
 "cells": [
  {
   "attachments": {},
   "cell_type": "markdown",
   "metadata": {},
   "source": [
    "## WIPRO stock price prediction\n",
    "\n",
    "We will follow below steps to solve this time series problem:\n",
    "1. Load the stock data\n",
    "2. Analyze the stock data\n",
    "3. Split the data into train, test\n",
    "4. Use ARIMA to predict stock price\n",
    "5. Use LSTM to predict stock price. \n"
   ]
  },
  {
   "cell_type": "code",
   "execution_count": 34,
   "metadata": {},
   "outputs": [],
   "source": [
    "# General\n",
    "from datetime import datetime\n",
    "\n",
    "# Data\n",
    "import numpy as np\n",
    "import pandas as pd\n",
    "\n",
    "# Plotting\n",
    "import matplotlib.pyplot as plt\n",
    "import seaborn as sns\n",
    "\n",
    "# To download stock data\n",
    "import yfinance as yf \n",
    "\n",
    "# Time series\n",
    "from pandas.plotting import autocorrelation_plot\n",
    "from statsmodels.tsa.arima.model import ARIMA\n",
    "\n"
   ]
  },
  {
   "attachments": {},
   "cell_type": "markdown",
   "metadata": {},
   "source": [
    "#### 1. Load data"
   ]
  },
  {
   "cell_type": "code",
   "execution_count": 7,
   "metadata": {},
   "outputs": [
    {
     "name": "stdout",
     "output_type": "stream",
     "text": [
      "[*********************100%***********************]  1 of 1 completed\n"
     ]
    }
   ],
   "source": [
    "end = datetime.now()\n",
    "start = datetime(end.year-5, end.month, end.day)\n",
    "\n",
    "wit = yf.download('WIT', start, end)"
   ]
  },
  {
   "cell_type": "code",
   "execution_count": 10,
   "metadata": {},
   "outputs": [
    {
     "name": "stdout",
     "output_type": "stream",
     "text": [
      "Shape of data: (1258, 6)\n"
     ]
    }
   ],
   "source": [
    "print('Shape of data: {0}'.format(wit.shape))"
   ]
  },
  {
   "cell_type": "code",
   "execution_count": 13,
   "metadata": {},
   "outputs": [
    {
     "data": {
      "text/html": [
       "<div>\n",
       "<style scoped>\n",
       "    .dataframe tbody tr th:only-of-type {\n",
       "        vertical-align: middle;\n",
       "    }\n",
       "\n",
       "    .dataframe tbody tr th {\n",
       "        vertical-align: top;\n",
       "    }\n",
       "\n",
       "    .dataframe thead th {\n",
       "        text-align: right;\n",
       "    }\n",
       "</style>\n",
       "<table border=\"1\" class=\"dataframe\">\n",
       "  <thead>\n",
       "    <tr style=\"text-align: right;\">\n",
       "      <th></th>\n",
       "      <th>Open</th>\n",
       "      <th>High</th>\n",
       "      <th>Low</th>\n",
       "      <th>Close</th>\n",
       "      <th>Adj Close</th>\n",
       "      <th>Volume</th>\n",
       "    </tr>\n",
       "    <tr>\n",
       "      <th>Date</th>\n",
       "      <th></th>\n",
       "      <th></th>\n",
       "      <th></th>\n",
       "      <th></th>\n",
       "      <th></th>\n",
       "      <th></th>\n",
       "    </tr>\n",
       "  </thead>\n",
       "  <tbody>\n",
       "    <tr>\n",
       "      <th>2018-05-15</th>\n",
       "      <td>4.64</td>\n",
       "      <td>4.65</td>\n",
       "      <td>4.57</td>\n",
       "      <td>4.62</td>\n",
       "      <td>4.524464</td>\n",
       "      <td>546300</td>\n",
       "    </tr>\n",
       "    <tr>\n",
       "      <th>2018-05-16</th>\n",
       "      <td>4.66</td>\n",
       "      <td>4.67</td>\n",
       "      <td>4.63</td>\n",
       "      <td>4.67</td>\n",
       "      <td>4.573430</td>\n",
       "      <td>414700</td>\n",
       "    </tr>\n",
       "    <tr>\n",
       "      <th>2018-05-17</th>\n",
       "      <td>4.66</td>\n",
       "      <td>4.68</td>\n",
       "      <td>4.62</td>\n",
       "      <td>4.63</td>\n",
       "      <td>4.534257</td>\n",
       "      <td>623100</td>\n",
       "    </tr>\n",
       "    <tr>\n",
       "      <th>2018-05-18</th>\n",
       "      <td>4.59</td>\n",
       "      <td>4.65</td>\n",
       "      <td>4.57</td>\n",
       "      <td>4.59</td>\n",
       "      <td>4.495085</td>\n",
       "      <td>1634900</td>\n",
       "    </tr>\n",
       "    <tr>\n",
       "      <th>2018-05-21</th>\n",
       "      <td>4.55</td>\n",
       "      <td>4.57</td>\n",
       "      <td>4.51</td>\n",
       "      <td>4.54</td>\n",
       "      <td>4.446118</td>\n",
       "      <td>750100</td>\n",
       "    </tr>\n",
       "  </tbody>\n",
       "</table>\n",
       "</div>"
      ],
      "text/plain": [
       "            Open  High   Low  Close  Adj Close   Volume\n",
       "Date                                                   \n",
       "2018-05-15  4.64  4.65  4.57   4.62   4.524464   546300\n",
       "2018-05-16  4.66  4.67  4.63   4.67   4.573430   414700\n",
       "2018-05-17  4.66  4.68  4.62   4.63   4.534257   623100\n",
       "2018-05-18  4.59  4.65  4.57   4.59   4.495085  1634900\n",
       "2018-05-21  4.55  4.57  4.51   4.54   4.446118   750100"
      ]
     },
     "execution_count": 13,
     "metadata": {},
     "output_type": "execute_result"
    }
   ],
   "source": [
    "wit.head()"
   ]
  },
  {
   "attachments": {},
   "cell_type": "markdown",
   "metadata": {},
   "source": [
    "Our data is at day level and excludes weekends.\n",
    "For each day, we have the opening price (Open), highest price (High), lowest price (Low), Closing price (Close), Adjusted Closing price (Adj Close) and Sales volume (Volume) "
   ]
  },
  {
   "attachments": {},
   "cell_type": "markdown",
   "metadata": {},
   "source": [
    "#### 2. Analyzing stock data"
   ]
  },
  {
   "cell_type": "code",
   "execution_count": 14,
   "metadata": {},
   "outputs": [
    {
     "data": {
      "text/html": [
       "<div>\n",
       "<style scoped>\n",
       "    .dataframe tbody tr th:only-of-type {\n",
       "        vertical-align: middle;\n",
       "    }\n",
       "\n",
       "    .dataframe tbody tr th {\n",
       "        vertical-align: top;\n",
       "    }\n",
       "\n",
       "    .dataframe thead th {\n",
       "        text-align: right;\n",
       "    }\n",
       "</style>\n",
       "<table border=\"1\" class=\"dataframe\">\n",
       "  <thead>\n",
       "    <tr style=\"text-align: right;\">\n",
       "      <th></th>\n",
       "      <th>Open</th>\n",
       "      <th>High</th>\n",
       "      <th>Low</th>\n",
       "      <th>Close</th>\n",
       "      <th>Adj Close</th>\n",
       "      <th>Volume</th>\n",
       "    </tr>\n",
       "  </thead>\n",
       "  <tbody>\n",
       "    <tr>\n",
       "      <th>count</th>\n",
       "      <td>1258.000000</td>\n",
       "      <td>1258.000000</td>\n",
       "      <td>1258.000000</td>\n",
       "      <td>1258.000000</td>\n",
       "      <td>1258.000000</td>\n",
       "      <td>1.258000e+03</td>\n",
       "    </tr>\n",
       "    <tr>\n",
       "      <th>mean</th>\n",
       "      <td>5.432432</td>\n",
       "      <td>5.480906</td>\n",
       "      <td>5.385477</td>\n",
       "      <td>5.434078</td>\n",
       "      <td>5.366820</td>\n",
       "      <td>1.802530e+06</td>\n",
       "    </tr>\n",
       "    <tr>\n",
       "      <th>std</th>\n",
       "      <td>1.703409</td>\n",
       "      <td>1.711717</td>\n",
       "      <td>1.693549</td>\n",
       "      <td>1.702374</td>\n",
       "      <td>1.686192</td>\n",
       "      <td>1.275385e+06</td>\n",
       "    </tr>\n",
       "    <tr>\n",
       "      <th>min</th>\n",
       "      <td>2.520000</td>\n",
       "      <td>2.650000</td>\n",
       "      <td>2.520000</td>\n",
       "      <td>2.570000</td>\n",
       "      <td>2.532681</td>\n",
       "      <td>1.163000e+05</td>\n",
       "    </tr>\n",
       "    <tr>\n",
       "      <th>25%</th>\n",
       "      <td>4.310000</td>\n",
       "      <td>4.340000</td>\n",
       "      <td>4.272500</td>\n",
       "      <td>4.310000</td>\n",
       "      <td>4.238556</td>\n",
       "      <td>9.284500e+05</td>\n",
       "    </tr>\n",
       "    <tr>\n",
       "      <th>50%</th>\n",
       "      <td>5.030000</td>\n",
       "      <td>5.080000</td>\n",
       "      <td>4.980000</td>\n",
       "      <td>5.040000</td>\n",
       "      <td>4.955366</td>\n",
       "      <td>1.473150e+06</td>\n",
       "    </tr>\n",
       "    <tr>\n",
       "      <th>75%</th>\n",
       "      <td>6.387500</td>\n",
       "      <td>6.420000</td>\n",
       "      <td>6.300000</td>\n",
       "      <td>6.380000</td>\n",
       "      <td>6.300763</td>\n",
       "      <td>2.346575e+06</td>\n",
       "    </tr>\n",
       "    <tr>\n",
       "      <th>max</th>\n",
       "      <td>9.950000</td>\n",
       "      <td>9.960000</td>\n",
       "      <td>9.870000</td>\n",
       "      <td>9.950000</td>\n",
       "      <td>9.826425</td>\n",
       "      <td>1.451150e+07</td>\n",
       "    </tr>\n",
       "  </tbody>\n",
       "</table>\n",
       "</div>"
      ],
      "text/plain": [
       "              Open         High          Low        Close    Adj Close   \n",
       "count  1258.000000  1258.000000  1258.000000  1258.000000  1258.000000  \\\n",
       "mean      5.432432     5.480906     5.385477     5.434078     5.366820   \n",
       "std       1.703409     1.711717     1.693549     1.702374     1.686192   \n",
       "min       2.520000     2.650000     2.520000     2.570000     2.532681   \n",
       "25%       4.310000     4.340000     4.272500     4.310000     4.238556   \n",
       "50%       5.030000     5.080000     4.980000     5.040000     4.955366   \n",
       "75%       6.387500     6.420000     6.300000     6.380000     6.300763   \n",
       "max       9.950000     9.960000     9.870000     9.950000     9.826425   \n",
       "\n",
       "             Volume  \n",
       "count  1.258000e+03  \n",
       "mean   1.802530e+06  \n",
       "std    1.275385e+06  \n",
       "min    1.163000e+05  \n",
       "25%    9.284500e+05  \n",
       "50%    1.473150e+06  \n",
       "75%    2.346575e+06  \n",
       "max    1.451150e+07  "
      ]
     },
     "execution_count": 14,
     "metadata": {},
     "output_type": "execute_result"
    }
   ],
   "source": [
    "wit.describe()"
   ]
  },
  {
   "attachments": {},
   "cell_type": "markdown",
   "metadata": {},
   "source": [
    "As we can see that the date is index"
   ]
  },
  {
   "cell_type": "code",
   "execution_count": 12,
   "metadata": {},
   "outputs": [
    {
     "name": "stdout",
     "output_type": "stream",
     "text": [
      "<class 'pandas.core.frame.DataFrame'>\n",
      "DatetimeIndex: 1258 entries, 2018-05-15 to 2023-05-12\n",
      "Data columns (total 6 columns):\n",
      " #   Column     Non-Null Count  Dtype  \n",
      "---  ------     --------------  -----  \n",
      " 0   Open       1258 non-null   float64\n",
      " 1   High       1258 non-null   float64\n",
      " 2   Low        1258 non-null   float64\n",
      " 3   Close      1258 non-null   float64\n",
      " 4   Adj Close  1258 non-null   float64\n",
      " 5   Volume     1258 non-null   int64  \n",
      "dtypes: float64(5), int64(1)\n",
      "memory usage: 68.8 KB\n"
     ]
    }
   ],
   "source": [
    "wit.info()"
   ]
  },
  {
   "attachments": {},
   "cell_type": "markdown",
   "metadata": {},
   "source": [
    "##### Closing price"
   ]
  },
  {
   "cell_type": "code",
   "execution_count": 20,
   "metadata": {},
   "outputs": [
    {
     "data": {
      "image/png": "[encoded data removed]",
      "text/plain": [
       "<Figure size 1500x400 with 1 Axes>"
      ]
     },
     "metadata": {},
     "output_type": "display_data"
    }
   ],
   "source": [
    "plt.figure(figsize=(15,4))\n",
    "wit['Adj Close'].plot()\n",
    "plt.ylabel('Adj Close')\n",
    "plt.xlabel('Date')\n",
    "plt.title('Closing Price of WIT')\n",
    "plt.show()"
   ]
  },
  {
   "attachments": {},
   "cell_type": "markdown",
   "metadata": {},
   "source": [
    "We can see that there are multiple trends that occured during last 5 years. From 2018 to mid-2020, the seems to have declining trend while from mid-2020 to early 2022, the data has upward trend and again a declining trend is observed."
   ]
  },
  {
   "attachments": {},
   "cell_type": "markdown",
   "metadata": {},
   "source": [
    "#### 3. Split data into train, test"
   ]
  },
  {
   "cell_type": "code",
   "execution_count": 31,
   "metadata": {},
   "outputs": [],
   "source": [
    "# Lets filter only metric we want i.e. 'Adj Close'\n",
    "data = wit['Adj Close']\n",
    "lim = int(len(data)*0.90)\n",
    "\n",
    "train = data[:lim]\n",
    "test = data[lim:] \n"
   ]
  },
  {
   "cell_type": "code",
   "execution_count": 33,
   "metadata": {},
   "outputs": [
    {
     "name": "stdout",
     "output_type": "stream",
     "text": [
      "Shape of data: (1258,)\n",
      "Shape of train: (1132,)\n",
      "Shape of test: (126,)\n"
     ]
    }
   ],
   "source": [
    "print('Shape of data: {0}'.format((data.shape)))\n",
    "print('Shape of train: {0}'.format((train.shape)))\n",
    "print('Shape of test: {0}'.format((test.shape)))\n"
   ]
  },
  {
   "attachments": {},
   "cell_type": "markdown",
   "metadata": {},
   "source": [
    "#### 4. ARIMA"
   ]
  },
  {
   "attachments": {},
   "cell_type": "markdown",
   "metadata": {},
   "source": [
    "Lets plot autocorrelation plot to decide the lags"
   ]
  },
  {
   "cell_type": "code",
   "execution_count": 37,
   "metadata": {},
   "outputs": [
    {
     "data": {
      "image/png": "[encoded data removed]",
      "text/plain": [
       "<Figure size 600x400 with 1 Axes>"
      ]
     },
     "metadata": {},
     "output_type": "display_data"
    }
   ],
   "source": [
    "plt.figure(figsize=(6,4))\n",
    "autocorrelation_plot(train)\n",
    "plt.show()"
   ]
  },
  {
   "cell_type": "code",
   "execution_count": null,
   "metadata": {},
   "outputs": [],
   "source": []
  }
 ],
 "metadata": {
  "kernelspec": {
   "display_name": "Python 3",
   "language": "python",
   "name": "python3"
  },
  "language_info": {
   "codemirror_mode": {
    "name": "ipython",
    "version": 3
   },
   "file_extension": ".py",
   "mimetype": "text/x-python",
   "name": "python",
   "nbconvert_exporter": "python",
   "pygments_lexer": "ipython3",
   "version": "3.9.16"
  },
  "orig_nbformat": 4
 },
 "nbformat": 4,
 "nbformat_minor": 2
}
